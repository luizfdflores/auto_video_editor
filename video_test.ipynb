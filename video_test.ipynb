{
 "cells": [
  {
   "cell_type": "code",
   "execution_count": 1,
   "metadata": {
    "collapsed": true
   },
   "outputs": [],
   "source": [
    "video = 'test.mp4'"
   ]
  },
  {
   "cell_type": "code",
   "execution_count": 6,
   "metadata": {},
   "outputs": [],
   "source": [
    "import moviepy.editor as mp\n",
    "videoclip = mp.VideoFileClip(video)\n",
    "audioclip = videoclip.audio"
   ]
  },
  {
   "cell_type": "code",
   "execution_count": 7,
   "metadata": {},
   "outputs": [
    {
     "ename": "TypeError",
     "evalue": "'VideoFileClip' object does not support indexing",
     "traceback": [
      "\u001b[0;31m---------------------------------------------------------------------------\u001b[0m",
      "\u001b[0;31mTypeError\u001b[0m                                 Traceback (most recent call last)",
      "\u001b[0;32m<ipython-input-7-25f119f950a7>\u001b[0m in \u001b[0;36m<module>\u001b[0;34m()\u001b[0m\n\u001b[1;32m      1\u001b[0m \u001b[0;31m#final_audio = mp.CompositeAudioClip(audioclip)\u001b[0m\u001b[0;34m\u001b[0m\u001b[0;34m\u001b[0m\u001b[0m\n\u001b[0;32m----> 2\u001b[0;31m \u001b[0mfinal_video\u001b[0m \u001b[0;34m=\u001b[0m \u001b[0mmp\u001b[0m\u001b[0;34m.\u001b[0m\u001b[0mCompositeVideoClip\u001b[0m\u001b[0;34m(\u001b[0m\u001b[0mvideoclip\u001b[0m\u001b[0;34m)\u001b[0m\u001b[0;34m\u001b[0m\u001b[0m\n\u001b[0m",
      "\u001b[0;32mC:\\Users\\Luiz\\AppData\\Local\\Programs\\Python\\Python37\\lib\\site-packages\\moviepy\\video\\compositing\\CompositeVideoClip.py\u001b[0m in \u001b[0;36m__init__\u001b[0;34m(self, clips, size, bg_color, use_bgclip, ismask)\u001b[0m\n\u001b[1;32m     49\u001b[0m \u001b[0;34m\u001b[0m\u001b[0m\n\u001b[1;32m     50\u001b[0m         \u001b[0;32mif\u001b[0m \u001b[0msize\u001b[0m \u001b[0;32mis\u001b[0m \u001b[0;32mNone\u001b[0m\u001b[0;34m:\u001b[0m\u001b[0;34m\u001b[0m\u001b[0m\n\u001b[0;32m---> 51\u001b[0;31m             \u001b[0msize\u001b[0m \u001b[0;34m=\u001b[0m \u001b[0mclips\u001b[0m\u001b[0;34m[\u001b[0m\u001b[0;36m0\u001b[0m\u001b[0;34m]\u001b[0m\u001b[0;34m.\u001b[0m\u001b[0msize\u001b[0m\u001b[0;34m\u001b[0m\u001b[0m\n\u001b[0m\u001b[1;32m     52\u001b[0m \u001b[0;34m\u001b[0m\u001b[0m\n\u001b[1;32m     53\u001b[0m \u001b[0;34m\u001b[0m\u001b[0m\n",
      "\u001b[0;31mTypeError\u001b[0m: 'VideoFileClip' object does not support indexing"
     ],
     "output_type": "error"
    }
   ],
   "source": [
    "#final_audio = mp.CompositeAudioClip(audioclip)\n",
    "final_video = mp.CompositeVideoClip(videoclip)\n"
   ]
  },
  {
   "cell_type": "code",
   "execution_count": 11,
   "metadata": {},
   "outputs": [
    {
     "name": "stdout",
     "output_type": "stream",
     "text": [
      "Moviepy - Building video video.mp4."
     ]
    },
    {
     "name": "stdout",
     "output_type": "stream",
     "text": [
      "\n"
     ]
    },
    {
     "name": "stdout",
     "output_type": "stream",
     "text": [
      "Moviepy - Writing video video.mp4\n"
     ]
    },
    {
     "name": "stdout",
     "output_type": "stream",
     "text": [
      "\n"
     ]
    },
    {
     "name": "stderr",
     "output_type": "stream",
     "text": [
      "\rt:   0%|          | 0/4686 [00:00<?, ?it/s, now=None]"
     ]
    },
    {
     "name": "stderr",
     "output_type": "stream",
     "text": [
      "\rt:   0%|          | 2/4686 [00:00<06:30, 12.01it/s, now=None]"
     ]
    },
    {
     "name": "stderr",
     "output_type": "stream",
     "text": [
      "\rt:   1%|          | 32/4686 [00:00<04:36, 16.86it/s, now=None]"
     ]
    },
    {
     "name": "stderr",
     "output_type": "stream",
     "text": [
      "\rt:   1%|          | 51/4686 [00:00<03:19, 23.18it/s, now=None]"
     ]
    },
    {
     "name": "stderr",
     "output_type": "stream",
     "text": [
      "\rt:   2%|▏         | 77/4686 [00:00<02:24, 31.86it/s, now=None]"
     ]
    },
    {
     "name": "stderr",
     "output_type": "stream",
     "text": [
      "\rt:   2%|▏         | 93/4686 [00:00<01:56, 39.32it/s, now=None]"
     ]
    },
    {
     "name": "stderr",
     "output_type": "stream",
     "text": [
      "\rt:   2%|▏         | 107/4686 [00:01<01:56, 39.19it/s, now=None]"
     ]
    },
    {
     "name": "stderr",
     "output_type": "stream",
     "text": [
      "\rt:   3%|▎         | 118/4686 [00:01<01:48, 42.08it/s, now=None]"
     ]
    },
    {
     "name": "stderr",
     "output_type": "stream",
     "text": [
      "\rt:   3%|▎         | 128/4686 [00:01<01:36, 47.48it/s, now=None]"
     ]
    },
    {
     "name": "stderr",
     "output_type": "stream",
     "text": [
      "\rt:   3%|▎         | 137/4686 [00:01<01:30, 50.26it/s, now=None]"
     ]
    },
    {
     "name": "stderr",
     "output_type": "stream",
     "text": [
      "\rt:   3%|▎         | 145/4686 [00:01<01:26, 52.59it/s, now=None]"
     ]
    },
    {
     "name": "stderr",
     "output_type": "stream",
     "text": [
      "\rt:   3%|▎         | 153/4686 [00:01<01:35, 47.59it/s, now=None]"
     ]
    },
    {
     "name": "stderr",
     "output_type": "stream",
     "text": [
      "\rt:   3%|▎         | 164/4686 [00:01<01:19, 57.19it/s, now=None]"
     ]
    },
    {
     "name": "stderr",
     "output_type": "stream",
     "text": [
      "\rt:   4%|▎         | 172/4686 [00:02<01:14, 60.19it/s, now=None]"
     ]
    },
    {
     "name": "stderr",
     "output_type": "stream",
     "text": [
      "\rt:   4%|▍         | 180/4686 [00:02<01:10, 63.97it/s, now=None]"
     ]
    },
    {
     "name": "stderr",
     "output_type": "stream",
     "text": [
      "\rt:   4%|▍         | 189/4686 [00:02<01:06, 67.72it/s, now=None]"
     ]
    },
    {
     "name": "stderr",
     "output_type": "stream",
     "text": [
      "\rt:   4%|▍         | 197/4686 [00:02<01:12, 62.13it/s, now=None]"
     ]
    },
    {
     "name": "stderr",
     "output_type": "stream",
     "text": [
      "\rt:   4%|▍         | 204/4686 [00:02<01:21, 54.71it/s, now=None]"
     ]
    },
    {
     "name": "stderr",
     "output_type": "stream",
     "text": [
      "\rt:   5%|▍         | 211/4686 [00:02<01:20, 55.66it/s, now=None]"
     ]
    },
    {
     "name": "stderr",
     "output_type": "stream",
     "text": [
      "\rt:   5%|▍         | 221/4686 [00:02<01:15, 59.23it/s, now=None]"
     ]
    },
    {
     "name": "stderr",
     "output_type": "stream",
     "text": [
      "\rt:   5%|▍         | 229/4686 [00:03<01:11, 62.32it/s, now=None]"
     ]
    },
    {
     "name": "stderr",
     "output_type": "stream",
     "text": [
      "\rt:   5%|▌         | 236/4686 [00:03<01:38, 45.36it/s, now=None]"
     ]
    },
    {
     "name": "stderr",
     "output_type": "stream",
     "text": [
      "\rt:   5%|▌         | 244/4686 [00:03<01:28, 50.30it/s, now=None]"
     ]
    },
    {
     "name": "stderr",
     "output_type": "stream",
     "text": [
      "\rt:   5%|▌         | 250/4686 [00:03<01:43, 42.75it/s, now=None]"
     ]
    },
    {
     "name": "stderr",
     "output_type": "stream",
     "text": [
      "\rt:   5%|▌         | 256/4686 [00:03<01:34, 46.70it/s, now=None]"
     ]
    },
    {
     "name": "stderr",
     "output_type": "stream",
     "text": [
      "\rt:   6%|▌         | 262/4686 [00:03<01:30, 48.84it/s, now=None]"
     ]
    },
    {
     "name": "stderr",
     "output_type": "stream",
     "text": [
      "\rt:   6%|▌         | 268/4686 [00:03<01:43, 42.72it/s, now=None]"
     ]
    },
    {
     "name": "stderr",
     "output_type": "stream",
     "text": [
      "\rt:   6%|▌         | 273/4686 [00:04<01:52, 39.06it/s, now=None]"
     ]
    },
    {
     "name": "stderr",
     "output_type": "stream",
     "text": [
      "\rt:   6%|▌         | 281/4686 [00:04<01:40, 43.97it/s, now=None]"
     ]
    },
    {
     "name": "stderr",
     "output_type": "stream",
     "text": [
      "\rt:   6%|▌         | 290/4686 [00:04<01:25, 51.51it/s, now=None]"
     ]
    },
    {
     "name": "stderr",
     "output_type": "stream",
     "text": [
      "\rt:   6%|▋         | 296/4686 [00:04<01:21, 53.69it/s, now=None]"
     ]
    },
    {
     "name": "stderr",
     "output_type": "stream",
     "text": [
      "\rt:   7%|▋         | 306/4686 [00:04<01:15, 58.05it/s, now=None]"
     ]
    },
    {
     "name": "stderr",
     "output_type": "stream",
     "text": [
      "\rt:   7%|▋         | 313/4686 [00:04<01:12, 59.97it/s, now=None]"
     ]
    },
    {
     "name": "stderr",
     "output_type": "stream",
     "text": [
      "\rt:   7%|▋         | 320/4686 [00:04<01:36, 45.07it/s, now=None]"
     ]
    },
    {
     "name": "stderr",
     "output_type": "stream",
     "text": [
      "\rt:   7%|▋         | 327/4686 [00:05<01:26, 50.17it/s, now=None]"
     ]
    },
    {
     "name": "stderr",
     "output_type": "stream",
     "text": [
      "\rt:   7%|▋         | 333/4686 [00:05<01:36, 45.18it/s, now=None]"
     ]
    },
    {
     "name": "stderr",
     "output_type": "stream",
     "text": [
      "\rt:   7%|▋         | 341/4686 [00:05<01:58, 36.77it/s, now=None]"
     ]
    },
    {
     "name": "stderr",
     "output_type": "stream",
     "text": [
      "\rt:   7%|▋         | 346/4686 [00:05<01:50, 39.31it/s, now=None]"
     ]
    },
    {
     "name": "stderr",
     "output_type": "stream",
     "text": [
      "\rt:   8%|▊         | 353/4686 [00:05<01:44, 41.58it/s, now=None]"
     ]
    },
    {
     "name": "stderr",
     "output_type": "stream",
     "text": [
      "\rt:   8%|▊         | 358/4686 [00:05<02:06, 34.15it/s, now=None]"
     ]
    },
    {
     "name": "stderr",
     "output_type": "stream",
     "text": [
      "\rt:   8%|▊         | 365/4686 [00:06<01:47, 40.16it/s, now=None]"
     ]
    },
    {
     "name": "stderr",
     "output_type": "stream",
     "text": [
      "\rt:   8%|▊         | 370/4686 [00:06<01:48, 39.67it/s, now=None]"
     ]
    },
    {
     "name": "stderr",
     "output_type": "stream",
     "text": [
      "\rt:   8%|▊         | 379/4686 [00:06<01:30, 47.61it/s, now=None]"
     ]
    },
    {
     "name": "stderr",
     "output_type": "stream",
     "text": [
      "\rt:   8%|▊         | 385/4686 [00:06<01:30, 47.76it/s, now=None]"
     ]
    },
    {
     "name": "stderr",
     "output_type": "stream",
     "text": [
      "\rt:   8%|▊         | 391/4686 [00:06<01:29, 48.10it/s, now=None]"
     ]
    },
    {
     "name": "stderr",
     "output_type": "stream",
     "text": [
      "\rt:   8%|▊         | 398/4686 [00:06<01:22, 52.05it/s, now=None]"
     ]
    },
    {
     "name": "stderr",
     "output_type": "stream",
     "text": [
      "\rt:   9%|▊         | 404/4686 [00:06<01:21, 52.54it/s, now=None]"
     ]
    },
    {
     "name": "stderr",
     "output_type": "stream",
     "text": [
      "\rt:   9%|▊         | 410/4686 [00:06<01:23, 51.13it/s, now=None]"
     ]
    },
    {
     "name": "stderr",
     "output_type": "stream",
     "text": [
      "\rt:   9%|▉         | 416/4686 [00:07<01:28, 48.15it/s, now=None]"
     ]
    },
    {
     "name": "stderr",
     "output_type": "stream",
     "text": [
      "\rt:   9%|▉         | 422/4686 [00:07<01:29, 47.91it/s, now=None]"
     ]
    },
    {
     "name": "stderr",
     "output_type": "stream",
     "text": [
      "\rt:   9%|▉         | 431/4686 [00:07<01:16, 55.55it/s, now=None]"
     ]
    },
    {
     "name": "stderr",
     "output_type": "stream",
     "text": [
      "\rt:   9%|▉         | 441/4686 [00:07<01:06, 63.64it/s, now=None]"
     ]
    },
    {
     "name": "stderr",
     "output_type": "stream",
     "text": [
      "\rt:  10%|▉         | 451/4686 [00:07<00:59, 71.32it/s, now=None]"
     ]
    },
    {
     "name": "stderr",
     "output_type": "stream",
     "text": [
      "\rt:  10%|▉         | 459/4686 [00:07<00:58, 72.77it/s, now=None]"
     ]
    },
    {
     "name": "stderr",
     "output_type": "stream",
     "text": [
      "\rt:  10%|█         | 469/4686 [00:07<00:53, 78.37it/s, now=None]"
     ]
    },
    {
     "name": "stderr",
     "output_type": "stream",
     "text": [
      "\rt:  10%|█         | 478/4686 [00:07<00:52, 80.49it/s, now=None]"
     ]
    },
    {
     "name": "stderr",
     "output_type": "stream",
     "text": [
      "\rt:  10%|█         | 489/4686 [00:07<00:48, 86.77it/s, now=None]"
     ]
    },
    {
     "name": "stderr",
     "output_type": "stream",
     "text": [
      "\rt:  11%|█         | 500/4686 [00:08<00:47, 88.25it/s, now=None]"
     ]
    },
    {
     "name": "stderr",
     "output_type": "stream",
     "text": [
      "\rt:  11%|█         | 510/4686 [00:08<00:47, 87.24it/s, now=None]"
     ]
    },
    {
     "name": "stderr",
     "output_type": "stream",
     "text": [
      "\rt:  11%|█         | 522/4686 [00:08<00:45, 91.82it/s, now=None]"
     ]
    },
    {
     "name": "stderr",
     "output_type": "stream",
     "text": [
      "\rt:  11%|█▏        | 533/4686 [00:08<00:43, 94.44it/s, now=None]"
     ]
    },
    {
     "name": "stderr",
     "output_type": "stream",
     "text": [
      "\rt:  12%|█▏        | 543/4686 [00:08<00:44, 93.43it/s, now=None]"
     ]
    },
    {
     "name": "stderr",
     "output_type": "stream",
     "text": [
      "\rt:  12%|█▏        | 553/4686 [00:08<00:47, 86.94it/s, now=None]"
     ]
    },
    {
     "name": "stderr",
     "output_type": "stream",
     "text": [
      "\rt:  12%|█▏        | 562/4686 [00:08<00:56, 73.16it/s, now=None]"
     ]
    },
    {
     "name": "stderr",
     "output_type": "stream",
     "text": [
      "\rt:  12%|█▏        | 570/4686 [00:08<00:56, 72.49it/s, now=None]"
     ]
    },
    {
     "name": "stderr",
     "output_type": "stream",
     "text": [
      "\rt:  12%|█▏        | 580/4686 [00:08<00:52, 77.96it/s, now=None]"
     ]
    },
    {
     "name": "stderr",
     "output_type": "stream",
     "text": [
      "\rt:  13%|█▎        | 589/4686 [00:09<00:55, 73.71it/s, now=None]"
     ]
    },
    {
     "name": "stderr",
     "output_type": "stream",
     "text": [
      "\rt:  13%|█▎        | 598/4686 [00:09<00:53, 76.02it/s, now=None]"
     ]
    },
    {
     "name": "stderr",
     "output_type": "stream",
     "text": [
      "\rt:  13%|█▎        | 608/4686 [00:09<00:50, 80.01it/s, now=None]"
     ]
    },
    {
     "name": "stderr",
     "output_type": "stream",
     "text": [
      "\rt:  13%|█▎        | 622/4686 [00:09<00:44, 91.32it/s, now=None]"
     ]
    },
    {
     "name": "stderr",
     "output_type": "stream",
     "text": [
      "\rt:  13%|█▎        | 632/4686 [00:09<00:43, 93.31it/s, now=None]"
     ]
    },
    {
     "name": "stderr",
     "output_type": "stream",
     "text": [
      "\rt:  14%|█▍        | 646/4686 [00:09<00:39, 103.51it/s, now=None]"
     ]
    },
    {
     "name": "stderr",
     "output_type": "stream",
     "text": [
      "\rt:  14%|█▍        | 658/4686 [00:09<00:45, 88.89it/s, now=None] "
     ]
    },
    {
     "name": "stderr",
     "output_type": "stream",
     "text": [
      "\rt:  14%|█▍        | 668/4686 [00:10<02:18, 28.98it/s, now=None]"
     ]
    },
    {
     "name": "stderr",
     "output_type": "stream",
     "text": [
      "\rt:  14%|█▍        | 677/4686 [00:10<01:51, 35.83it/s, now=None]"
     ]
    },
    {
     "name": "stderr",
     "output_type": "stream",
     "text": [
      "\rt:  15%|█▍        | 687/4686 [00:10<01:30, 44.33it/s, now=None]"
     ]
    },
    {
     "name": "stderr",
     "output_type": "stream",
     "text": [
      "\rt:  15%|█▍        | 698/4686 [00:11<01:14, 53.86it/s, now=None]"
     ]
    },
    {
     "name": "stderr",
     "output_type": "stream",
     "text": [
      "\rt:  15%|█▌        | 708/4686 [00:11<01:04, 62.08it/s, now=None]"
     ]
    },
    {
     "name": "stderr",
     "output_type": "stream",
     "text": [
      "\rt:  15%|█▌        | 721/4686 [00:11<00:55, 72.07it/s, now=None]"
     ]
    },
    {
     "name": "stderr",
     "output_type": "stream",
     "text": [
      "\rt:  16%|█▌        | 732/4686 [00:11<00:49, 79.91it/s, now=None]"
     ]
    },
    {
     "name": "stderr",
     "output_type": "stream",
     "text": [
      "\rt:  16%|█▌        | 743/4686 [00:11<00:47, 83.73it/s, now=None]"
     ]
    },
    {
     "name": "stderr",
     "output_type": "stream",
     "text": [
      "\rt:  16%|█▌        | 753/4686 [00:11<00:46, 84.74it/s, now=None]"
     ]
    },
    {
     "name": "stderr",
     "output_type": "stream",
     "text": [
      "\rt:  16%|█▋        | 764/4686 [00:11<00:44, 88.65it/s, now=None]"
     ]
    },
    {
     "name": "stderr",
     "output_type": "stream",
     "text": [
      "\rt:  17%|█▋        | 775/4686 [00:11<00:42, 92.77it/s, now=None]"
     ]
    },
    {
     "name": "stderr",
     "output_type": "stream",
     "text": [
      "\rt:  17%|█▋        | 788/4686 [00:11<00:38, 101.32it/s, now=None]"
     ]
    },
    {
     "name": "stderr",
     "output_type": "stream",
     "text": [
      "\rt:  17%|█▋        | 799/4686 [00:12<00:38, 101.84it/s, now=None]"
     ]
    },
    {
     "name": "stderr",
     "output_type": "stream",
     "text": [
      "\rt:  17%|█▋        | 810/4686 [00:12<00:43, 89.95it/s, now=None] "
     ]
    },
    {
     "name": "stderr",
     "output_type": "stream",
     "text": [
      "\rt:  18%|█▊        | 821/4686 [00:12<00:43, 88.15it/s, now=None]"
     ]
    },
    {
     "name": "stderr",
     "output_type": "stream",
     "text": [
      "\rt:  18%|█▊        | 831/4686 [00:12<00:45, 84.52it/s, now=None]"
     ]
    },
    {
     "name": "stderr",
     "output_type": "stream",
     "text": [
      "\rt:  18%|█▊        | 841/4686 [00:12<00:44, 87.08it/s, now=None]"
     ]
    },
    {
     "name": "stderr",
     "output_type": "stream",
     "text": [
      "\rt:  18%|█▊        | 851/4686 [00:12<00:43, 88.50it/s, now=None]"
     ]
    },
    {
     "name": "stderr",
     "output_type": "stream",
     "text": [
      "\rt:  18%|█▊        | 861/4686 [00:12<00:43, 87.18it/s, now=None]"
     ]
    },
    {
     "name": "stderr",
     "output_type": "stream",
     "text": [
      "\rt:  19%|█▊        | 871/4686 [00:12<00:43, 86.73it/s, now=None]"
     ]
    },
    {
     "name": "stderr",
     "output_type": "stream",
     "text": [
      "\rt:  19%|█▉        | 881/4686 [00:12<00:44, 85.75it/s, now=None]"
     ]
    },
    {
     "name": "stderr",
     "output_type": "stream",
     "text": [
      "\rt:  19%|█▉        | 892/4686 [00:13<00:42, 90.31it/s, now=None]"
     ]
    },
    {
     "name": "stderr",
     "output_type": "stream",
     "text": [
      "\rt:  19%|█▉        | 902/4686 [00:13<00:41, 90.56it/s, now=None]"
     ]
    },
    {
     "name": "stderr",
     "output_type": "stream",
     "text": [
      "\rt:  19%|█▉        | 912/4686 [00:13<00:42, 89.04it/s, now=None]"
     ]
    },
    {
     "name": "stderr",
     "output_type": "stream",
     "text": [
      "\rt:  20%|█▉        | 923/4686 [00:13<00:42, 89.45it/s, now=None]"
     ]
    },
    {
     "name": "stderr",
     "output_type": "stream",
     "text": [
      "\rt:  20%|█▉        | 932/4686 [00:13<00:42, 87.34it/s, now=None]"
     ]
    },
    {
     "name": "stderr",
     "output_type": "stream",
     "text": [
      "\rt:  20%|██        | 943/4686 [00:13<00:41, 90.63it/s, now=None]"
     ]
    },
    {
     "name": "stderr",
     "output_type": "stream",
     "text": [
      "\rt:  20%|██        | 953/4686 [00:13<00:41, 89.57it/s, now=None]"
     ]
    },
    {
     "name": "stderr",
     "output_type": "stream",
     "text": [
      "\rt:  21%|██        | 965/4686 [00:13<00:39, 94.49it/s, now=None]"
     ]
    },
    {
     "name": "stderr",
     "output_type": "stream",
     "text": [
      "\rt:  21%|██        | 975/4686 [00:14<00:40, 92.69it/s, now=None]"
     ]
    },
    {
     "name": "stderr",
     "output_type": "stream",
     "text": [
      "\rt:  21%|██        | 985/4686 [00:14<00:42, 87.17it/s, now=None]"
     ]
    },
    {
     "name": "stderr",
     "output_type": "stream",
     "text": [
      "\rt:  21%|██        | 994/4686 [00:14<00:47, 77.42it/s, now=None]"
     ]
    },
    {
     "name": "stderr",
     "output_type": "stream",
     "text": [
      "\rt:  21%|██▏       | 1004/4686 [00:14<00:46, 79.92it/s, now=None]"
     ]
    },
    {
     "name": "stderr",
     "output_type": "stream",
     "text": [
      "\rt:  22%|██▏       | 1015/4686 [00:14<00:43, 84.32it/s, now=None]"
     ]
    },
    {
     "name": "stderr",
     "output_type": "stream",
     "text": [
      "\rt:  22%|██▏       | 1027/4686 [00:14<00:39, 92.21it/s, now=None]"
     ]
    },
    {
     "name": "stderr",
     "output_type": "stream",
     "text": [
      "\rt:  22%|██▏       | 1038/4686 [00:14<00:37, 96.22it/s, now=None]"
     ]
    },
    {
     "name": "stderr",
     "output_type": "stream",
     "text": [
      "\rt:  22%|██▏       | 1050/4686 [00:14<00:38, 95.31it/s, now=None]"
     ]
    },
    {
     "name": "stderr",
     "output_type": "stream",
     "text": [
      "\rt:  23%|██▎       | 1060/4686 [00:14<00:37, 96.47it/s, now=None]"
     ]
    },
    {
     "name": "stderr",
     "output_type": "stream",
     "text": [
      "\rt:  23%|██▎       | 1070/4686 [00:15<00:39, 92.45it/s, now=None]"
     ]
    },
    {
     "name": "stderr",
     "output_type": "stream",
     "text": [
      "\rt:  23%|██▎       | 1083/4686 [00:15<00:36, 97.86it/s, now=None]"
     ]
    },
    {
     "name": "stderr",
     "output_type": "stream",
     "text": [
      "\rt:  23%|██▎       | 1095/4686 [00:15<00:34, 103.40it/s, now=None]"
     ]
    },
    {
     "name": "stderr",
     "output_type": "stream",
     "text": [
      "\rt:  24%|██▎       | 1107/4686 [00:15<00:33, 106.24it/s, now=None]"
     ]
    },
    {
     "name": "stderr",
     "output_type": "stream",
     "text": [
      "\rt:  24%|██▍       | 1118/4686 [00:15<00:33, 105.57it/s, now=None]"
     ]
    },
    {
     "name": "stderr",
     "output_type": "stream",
     "text": [
      "\rt:  24%|██▍       | 1129/4686 [00:15<00:34, 102.19it/s, now=None]"
     ]
    },
    {
     "name": "stderr",
     "output_type": "stream",
     "text": [
      "\rt:  24%|██▍       | 1141/4686 [00:15<00:33, 105.90it/s, now=None]"
     ]
    },
    {
     "name": "stderr",
     "output_type": "stream",
     "text": [
      "\rt:  25%|██▍       | 1152/4686 [00:15<00:34, 101.27it/s, now=None]"
     ]
    },
    {
     "name": "stderr",
     "output_type": "stream",
     "text": [
      "\rt:  25%|██▍       | 1164/4686 [00:15<00:35, 98.49it/s, now=None] "
     ]
    },
    {
     "name": "stderr",
     "output_type": "stream",
     "text": [
      "\rt:  25%|██▌       | 1176/4686 [00:16<00:35, 98.77it/s, now=None]"
     ]
    },
    {
     "name": "stderr",
     "output_type": "stream",
     "text": [
      "\rt:  25%|██▌       | 1187/4686 [00:16<00:34, 100.85it/s, now=None]"
     ]
    },
    {
     "name": "stderr",
     "output_type": "stream",
     "text": [
      "\rt:  26%|██▌       | 1199/4686 [00:16<00:33, 105.16it/s, now=None]"
     ]
    },
    {
     "name": "stderr",
     "output_type": "stream",
     "text": [
      "\rt:  26%|██▌       | 1210/4686 [00:16<00:33, 103.94it/s, now=None]"
     ]
    },
    {
     "name": "stderr",
     "output_type": "stream",
     "text": [
      "\rt:  26%|██▌       | 1222/4686 [00:16<00:32, 108.07it/s, now=None]"
     ]
    },
    {
     "name": "stderr",
     "output_type": "stream",
     "text": [
      "\rt:  26%|██▋       | 1233/4686 [00:16<00:31, 108.09it/s, now=None]"
     ]
    },
    {
     "name": "stderr",
     "output_type": "stream",
     "text": [
      "\rt:  27%|██▋       | 1244/4686 [00:16<00:35, 96.47it/s, now=None] "
     ]
    },
    {
     "name": "stderr",
     "output_type": "stream",
     "text": [
      "\rt:  27%|██▋       | 1254/4686 [00:16<00:37, 92.71it/s, now=None]"
     ]
    },
    {
     "name": "stderr",
     "output_type": "stream",
     "text": [
      "\rt:  27%|██▋       | 1266/4686 [00:16<00:34, 98.58it/s, now=None]"
     ]
    },
    {
     "name": "stderr",
     "output_type": "stream",
     "text": [
      "\rt:  27%|██▋       | 1277/4686 [00:17<00:36, 93.78it/s, now=None]"
     ]
    },
    {
     "name": "stderr",
     "output_type": "stream",
     "text": [
      "\rt:  28%|██▊       | 1289/4686 [00:17<00:35, 96.55it/s, now=None]"
     ]
    },
    {
     "name": "stderr",
     "output_type": "stream",
     "text": [
      "\rt:  28%|██▊       | 1299/4686 [00:17<00:35, 95.68it/s, now=None]"
     ]
    },
    {
     "name": "stderr",
     "output_type": "stream",
     "text": [
      "\rt:  28%|██▊       | 1309/4686 [00:17<00:34, 96.73it/s, now=None]"
     ]
    },
    {
     "name": "stderr",
     "output_type": "stream",
     "text": [
      "\rt:  28%|██▊       | 1322/4686 [00:17<00:32, 104.34it/s, now=None]"
     ]
    },
    {
     "name": "stderr",
     "output_type": "stream",
     "text": [
      "\rt:  28%|██▊       | 1335/4686 [00:17<00:31, 106.63it/s, now=None]"
     ]
    },
    {
     "name": "stderr",
     "output_type": "stream",
     "text": [
      "\rt:  29%|██▊       | 1346/4686 [00:17<00:31, 104.93it/s, now=None]"
     ]
    },
    {
     "name": "stderr",
     "output_type": "stream",
     "text": [
      "\rt:  29%|██▉       | 1357/4686 [00:17<00:31, 104.37it/s, now=None]"
     ]
    },
    {
     "name": "stderr",
     "output_type": "stream",
     "text": [
      "\rt:  29%|██▉       | 1370/4686 [00:17<00:31, 105.61it/s, now=None]"
     ]
    },
    {
     "name": "stderr",
     "output_type": "stream",
     "text": [
      "\rt:  30%|██▉       | 1385/4686 [00:18<00:28, 115.44it/s, now=None]"
     ]
    },
    {
     "name": "stderr",
     "output_type": "stream",
     "text": [
      "\rt:  30%|██▉       | 1400/4686 [00:18<00:26, 123.79it/s, now=None]"
     ]
    },
    {
     "name": "stderr",
     "output_type": "stream",
     "text": [
      "\rt:  30%|███       | 1413/4686 [00:18<00:28, 116.89it/s, now=None]"
     ]
    },
    {
     "name": "stderr",
     "output_type": "stream",
     "text": [
      "\rt:  30%|███       | 1426/4686 [00:18<00:32, 101.47it/s, now=None]"
     ]
    },
    {
     "name": "stderr",
     "output_type": "stream",
     "text": [
      "\rt:  31%|███       | 1437/4686 [00:18<00:33, 97.36it/s, now=None] "
     ]
    },
    {
     "name": "stderr",
     "output_type": "stream",
     "text": [
      "\rt:  31%|███       | 1449/4686 [00:18<00:32, 98.70it/s, now=None]"
     ]
    },
    {
     "name": "stderr",
     "output_type": "stream",
     "text": [
      "\rt:  31%|███       | 1460/4686 [00:18<00:32, 99.43it/s, now=None]"
     ]
    },
    {
     "name": "stderr",
     "output_type": "stream",
     "text": [
      "\rt:  31%|███▏      | 1474/4686 [00:18<00:30, 106.97it/s, now=None]"
     ]
    },
    {
     "name": "stderr",
     "output_type": "stream",
     "text": [
      "\rt:  32%|███▏      | 1486/4686 [00:19<00:31, 101.17it/s, now=None]"
     ]
    },
    {
     "name": "stderr",
     "output_type": "stream",
     "text": [
      "\rt:  32%|███▏      | 1498/4686 [00:19<00:30, 105.68it/s, now=None]"
     ]
    },
    {
     "name": "stderr",
     "output_type": "stream",
     "text": [
      "\rt:  32%|███▏      | 1511/4686 [00:19<00:28, 110.90it/s, now=None]"
     ]
    },
    {
     "name": "stderr",
     "output_type": "stream",
     "text": [
      "\rt:  33%|███▎      | 1523/4686 [00:19<00:28, 110.74it/s, now=None]"
     ]
    },
    {
     "name": "stderr",
     "output_type": "stream",
     "text": [
      "\rt:  33%|███▎      | 1535/4686 [00:19<00:30, 103.23it/s, now=None]"
     ]
    },
    {
     "name": "stderr",
     "output_type": "stream",
     "text": [
      "\rt:  33%|███▎      | 1546/4686 [00:19<00:30, 103.19it/s, now=None]"
     ]
    },
    {
     "name": "stderr",
     "output_type": "stream",
     "text": [
      "\rt:  33%|███▎      | 1557/4686 [00:19<00:33, 92.98it/s, now=None] "
     ]
    },
    {
     "name": "stderr",
     "output_type": "stream",
     "text": [
      "\rt:  33%|███▎      | 1567/4686 [00:19<00:37, 84.27it/s, now=None]"
     ]
    },
    {
     "name": "stderr",
     "output_type": "stream",
     "text": [
      "\rt:  34%|███▎      | 1579/4686 [00:20<00:34, 89.09it/s, now=None]"
     ]
    },
    {
     "name": "stderr",
     "output_type": "stream",
     "text": [
      "\rt:  34%|███▍      | 1592/4686 [00:20<00:32, 96.26it/s, now=None]"
     ]
    },
    {
     "name": "stderr",
     "output_type": "stream",
     "text": [
      "\rt:  34%|███▍      | 1603/4686 [00:20<00:33, 91.15it/s, now=None]"
     ]
    },
    {
     "name": "stderr",
     "output_type": "stream",
     "text": [
      "\rt:  34%|███▍      | 1615/4686 [00:20<00:31, 96.87it/s, now=None]"
     ]
    },
    {
     "name": "stderr",
     "output_type": "stream",
     "text": [
      "\rt:  35%|███▍      | 1626/4686 [00:20<00:30, 99.46it/s, now=None]"
     ]
    },
    {
     "name": "stderr",
     "output_type": "stream",
     "text": [
      "\rt:  35%|███▍      | 1637/4686 [00:20<00:32, 93.37it/s, now=None]"
     ]
    },
    {
     "name": "stderr",
     "output_type": "stream",
     "text": [
      "\rt:  35%|███▌      | 1647/4686 [00:20<00:48, 62.29it/s, now=None]"
     ]
    },
    {
     "name": "stderr",
     "output_type": "stream",
     "text": [
      "\rt:  35%|███▌      | 1656/4686 [00:20<00:44, 68.51it/s, now=None]"
     ]
    },
    {
     "name": "stderr",
     "output_type": "stream",
     "text": [
      "\rt:  36%|███▌      | 1666/4686 [00:21<00:40, 75.36it/s, now=None]"
     ]
    },
    {
     "name": "stderr",
     "output_type": "stream",
     "text": [
      "\rt:  36%|███▌      | 1679/4686 [00:21<00:35, 84.93it/s, now=None]"
     ]
    },
    {
     "name": "stderr",
     "output_type": "stream",
     "text": [
      "\rt:  36%|███▌      | 1690/4686 [00:21<00:33, 89.89it/s, now=None]"
     ]
    },
    {
     "name": "stderr",
     "output_type": "stream",
     "text": [
      "\rt:  36%|███▋      | 1702/4686 [00:21<00:31, 95.42it/s, now=None]"
     ]
    },
    {
     "name": "stderr",
     "output_type": "stream",
     "text": [
      "\rt:  37%|███▋      | 1713/4686 [00:21<00:31, 94.82it/s, now=None]"
     ]
    },
    {
     "name": "stderr",
     "output_type": "stream",
     "text": [
      "\rt:  37%|███▋      | 1724/4686 [00:21<00:30, 96.39it/s, now=None]"
     ]
    },
    {
     "name": "stderr",
     "output_type": "stream",
     "text": [
      "\rt:  37%|███▋      | 1736/4686 [00:21<00:30, 97.76it/s, now=None]"
     ]
    },
    {
     "name": "stderr",
     "output_type": "stream",
     "text": [
      "\rt:  37%|███▋      | 1748/4686 [00:21<00:28, 102.27it/s, now=None]"
     ]
    },
    {
     "name": "stderr",
     "output_type": "stream",
     "text": [
      "\rt:  38%|███▊      | 1759/4686 [00:21<00:28, 103.37it/s, now=None]"
     ]
    },
    {
     "name": "stderr",
     "output_type": "stream",
     "text": [
      "\rt:  38%|███▊      | 1771/4686 [00:22<00:28, 101.90it/s, now=None]"
     ]
    },
    {
     "name": "stderr",
     "output_type": "stream",
     "text": [
      "\rt:  38%|███▊      | 1782/4686 [00:22<00:28, 100.30it/s, now=None]"
     ]
    },
    {
     "name": "stderr",
     "output_type": "stream",
     "text": [
      "\rt:  38%|███▊      | 1794/4686 [00:22<00:27, 104.20it/s, now=None]"
     ]
    },
    {
     "name": "stderr",
     "output_type": "stream",
     "text": [
      "\rt:  39%|███▊      | 1806/4686 [00:22<00:27, 106.54it/s, now=None]"
     ]
    },
    {
     "name": "stderr",
     "output_type": "stream",
     "text": [
      "\rt:  39%|███▉      | 1819/4686 [00:22<00:25, 110.71it/s, now=None]"
     ]
    },
    {
     "name": "stderr",
     "output_type": "stream",
     "text": [
      "\rt:  39%|███▉      | 1831/4686 [00:22<00:25, 112.79it/s, now=None]"
     ]
    },
    {
     "name": "stderr",
     "output_type": "stream",
     "text": [
      "\rt:  39%|███▉      | 1846/4686 [00:22<00:23, 120.47it/s, now=None]"
     ]
    },
    {
     "name": "stderr",
     "output_type": "stream",
     "text": [
      "\rt:  40%|███▉      | 1861/4686 [00:22<00:22, 127.15it/s, now=None]"
     ]
    },
    {
     "name": "stderr",
     "output_type": "stream",
     "text": [
      "\rt:  40%|███▉      | 1874/4686 [00:22<00:22, 125.50it/s, now=None]"
     ]
    },
    {
     "name": "stderr",
     "output_type": "stream",
     "text": [
      "\rt:  40%|████      | 1887/4686 [00:23<00:23, 116.69it/s, now=None]"
     ]
    },
    {
     "name": "stderr",
     "output_type": "stream",
     "text": [
      "\rt:  41%|████      | 1902/4686 [00:23<00:22, 123.56it/s, now=None]"
     ]
    },
    {
     "name": "stderr",
     "output_type": "stream",
     "text": [
      "\rt:  41%|████      | 1915/4686 [00:23<00:23, 117.07it/s, now=None]"
     ]
    },
    {
     "name": "stderr",
     "output_type": "stream",
     "text": [
      "\rt:  41%|████      | 1927/4686 [00:23<00:24, 113.35it/s, now=None]"
     ]
    },
    {
     "name": "stderr",
     "output_type": "stream",
     "text": [
      "\rt:  41%|████▏     | 1940/4686 [00:23<00:25, 109.63it/s, now=None]"
     ]
    },
    {
     "name": "stderr",
     "output_type": "stream",
     "text": [
      "\rt:  42%|████▏     | 1952/4686 [00:23<00:24, 112.01it/s, now=None]"
     ]
    },
    {
     "name": "stderr",
     "output_type": "stream",
     "text": [
      "\rt:  42%|████▏     | 1964/4686 [00:23<00:26, 101.88it/s, now=None]"
     ]
    },
    {
     "name": "stderr",
     "output_type": "stream",
     "text": [
      "\rt:  42%|████▏     | 1978/4686 [00:23<00:24, 108.95it/s, now=None]"
     ]
    },
    {
     "name": "stderr",
     "output_type": "stream",
     "text": [
      "\rt:  42%|████▏     | 1991/4686 [00:24<00:24, 111.93it/s, now=None]"
     ]
    },
    {
     "name": "stderr",
     "output_type": "stream",
     "text": [
      "\rt:  43%|████▎     | 2003/4686 [00:24<00:25, 105.60it/s, now=None]"
     ]
    },
    {
     "name": "stderr",
     "output_type": "stream",
     "text": [
      "\rt:  43%|████▎     | 2014/4686 [00:24<00:26, 99.71it/s, now=None] "
     ]
    },
    {
     "name": "stderr",
     "output_type": "stream",
     "text": [
      "\rt:  43%|████▎     | 2025/4686 [00:24<00:26, 99.88it/s, now=None]"
     ]
    },
    {
     "name": "stderr",
     "output_type": "stream",
     "text": [
      "\rt:  43%|████▎     | 2036/4686 [00:24<00:25, 102.22it/s, now=None]"
     ]
    },
    {
     "name": "stderr",
     "output_type": "stream",
     "text": [
      "\rt:  44%|████▎     | 2047/4686 [00:24<00:25, 103.34it/s, now=None]"
     ]
    },
    {
     "name": "stderr",
     "output_type": "stream",
     "text": [
      "\rt:  44%|████▍     | 2058/4686 [00:24<00:25, 104.73it/s, now=None]"
     ]
    },
    {
     "name": "stderr",
     "output_type": "stream",
     "text": [
      "\rt:  44%|████▍     | 2069/4686 [00:24<00:25, 103.64it/s, now=None]"
     ]
    },
    {
     "name": "stderr",
     "output_type": "stream",
     "text": [
      "\rt:  44%|████▍     | 2080/4686 [00:24<00:25, 102.32it/s, now=None]"
     ]
    },
    {
     "name": "stderr",
     "output_type": "stream",
     "text": [
      "\rt:  45%|████▍     | 2097/4686 [00:24<00:22, 115.79it/s, now=None]"
     ]
    },
    {
     "name": "stderr",
     "output_type": "stream",
     "text": [
      "\rt:  45%|████▌     | 2114/4686 [00:25<00:20, 126.97it/s, now=None]"
     ]
    },
    {
     "name": "stderr",
     "output_type": "stream",
     "text": [
      "\rt:  45%|████▌     | 2128/4686 [00:25<00:21, 119.99it/s, now=None]"
     ]
    },
    {
     "name": "stderr",
     "output_type": "stream",
     "text": [
      "\rt:  46%|████▌     | 2141/4686 [00:25<00:20, 121.54it/s, now=None]"
     ]
    },
    {
     "name": "stderr",
     "output_type": "stream",
     "text": [
      "\rt:  46%|████▌     | 2154/4686 [00:25<00:20, 123.70it/s, now=None]"
     ]
    },
    {
     "name": "stderr",
     "output_type": "stream",
     "text": [
      "\rt:  46%|████▌     | 2167/4686 [00:25<00:20, 122.44it/s, now=None]"
     ]
    },
    {
     "name": "stderr",
     "output_type": "stream",
     "text": [
      "\rt:  47%|████▋     | 2180/4686 [00:25<00:20, 124.00it/s, now=None]"
     ]
    },
    {
     "name": "stderr",
     "output_type": "stream",
     "text": [
      "\rt:  47%|████▋     | 2193/4686 [00:25<00:20, 120.93it/s, now=None]"
     ]
    },
    {
     "name": "stderr",
     "output_type": "stream",
     "text": [
      "\rt:  47%|████▋     | 2206/4686 [00:25<00:20, 119.53it/s, now=None]"
     ]
    },
    {
     "name": "stderr",
     "output_type": "stream",
     "text": [
      "\rt:  47%|████▋     | 2221/4686 [00:25<00:19, 123.61it/s, now=None]"
     ]
    },
    {
     "name": "stderr",
     "output_type": "stream",
     "text": [
      "\rt:  48%|████▊     | 2234/4686 [00:26<00:20, 119.02it/s, now=None]"
     ]
    },
    {
     "name": "stderr",
     "output_type": "stream",
     "text": [
      "\rt:  48%|████▊     | 2247/4686 [00:26<00:20, 119.19it/s, now=None]"
     ]
    },
    {
     "name": "stderr",
     "output_type": "stream",
     "text": [
      "\rt:  48%|████▊     | 2264/4686 [00:26<00:18, 128.35it/s, now=None]"
     ]
    },
    {
     "name": "stderr",
     "output_type": "stream",
     "text": [
      "\rt:  49%|████▊     | 2279/4686 [00:26<00:18, 130.75it/s, now=None]"
     ]
    },
    {
     "name": "stderr",
     "output_type": "stream",
     "text": [
      "\rt:  49%|████▉     | 2296/4686 [00:26<00:17, 138.86it/s, now=None]"
     ]
    },
    {
     "name": "stderr",
     "output_type": "stream",
     "text": [
      "\rt:  49%|████▉     | 2311/4686 [00:26<00:17, 137.45it/s, now=None]"
     ]
    },
    {
     "name": "stderr",
     "output_type": "stream",
     "text": [
      "\rt:  50%|████▉     | 2325/4686 [00:26<00:20, 115.74it/s, now=None]"
     ]
    },
    {
     "name": "stderr",
     "output_type": "stream",
     "text": [
      "\rt:  50%|████▉     | 2338/4686 [00:26<00:21, 110.90it/s, now=None]"
     ]
    },
    {
     "name": "stderr",
     "output_type": "stream",
     "text": [
      "\rt:  50%|█████     | 2354/4686 [00:27<00:19, 120.84it/s, now=None]"
     ]
    },
    {
     "name": "stderr",
     "output_type": "stream",
     "text": [
      "\rt:  51%|█████     | 2367/4686 [00:27<00:20, 115.65it/s, now=None]"
     ]
    },
    {
     "name": "stderr",
     "output_type": "stream",
     "text": [
      "\rt:  51%|█████     | 2380/4686 [00:27<00:21, 107.82it/s, now=None]"
     ]
    },
    {
     "name": "stderr",
     "output_type": "stream",
     "text": [
      "\rt:  51%|█████     | 2396/4686 [00:27<00:20, 113.73it/s, now=None]"
     ]
    },
    {
     "name": "stderr",
     "output_type": "stream",
     "text": [
      "\rt:  51%|█████▏    | 2411/4686 [00:27<00:18, 120.35it/s, now=None]"
     ]
    },
    {
     "name": "stderr",
     "output_type": "stream",
     "text": [
      "\rt:  52%|█████▏    | 2424/4686 [00:27<00:19, 117.20it/s, now=None]"
     ]
    },
    {
     "name": "stderr",
     "output_type": "stream",
     "text": [
      "\rt:  52%|█████▏    | 2438/4686 [00:27<00:19, 115.69it/s, now=None]"
     ]
    },
    {
     "name": "stderr",
     "output_type": "stream",
     "text": [
      "\rt:  52%|█████▏    | 2455/4686 [00:27<00:17, 127.45it/s, now=None]"
     ]
    },
    {
     "name": "stderr",
     "output_type": "stream",
     "text": [
      "\rt:  53%|█████▎    | 2469/4686 [00:28<00:18, 120.91it/s, now=None]"
     ]
    },
    {
     "name": "stderr",
     "output_type": "stream",
     "text": [
      "\rt:  53%|█████▎    | 2482/4686 [00:28<00:18, 120.51it/s, now=None]"
     ]
    },
    {
     "name": "stderr",
     "output_type": "stream",
     "text": [
      "\rt:  53%|█████▎    | 2495/4686 [00:28<00:20, 106.92it/s, now=None]"
     ]
    },
    {
     "name": "stderr",
     "output_type": "stream",
     "text": [
      "\rt:  53%|█████▎    | 2507/4686 [00:28<00:24, 88.81it/s, now=None] "
     ]
    },
    {
     "name": "stderr",
     "output_type": "stream",
     "text": [
      "\rt:  54%|█████▎    | 2518/4686 [00:28<00:25, 84.17it/s, now=None]"
     ]
    },
    {
     "name": "stderr",
     "output_type": "stream",
     "text": [
      "\rt:  54%|█████▍    | 2528/4686 [00:28<00:24, 87.97it/s, now=None]"
     ]
    },
    {
     "name": "stderr",
     "output_type": "stream",
     "text": [
      "\rt:  54%|█████▍    | 2538/4686 [00:28<00:23, 90.34it/s, now=None]"
     ]
    },
    {
     "name": "stderr",
     "output_type": "stream",
     "text": [
      "\rt:  54%|█████▍    | 2548/4686 [00:28<00:23, 91.08it/s, now=None]"
     ]
    },
    {
     "name": "stderr",
     "output_type": "stream",
     "text": [
      "\rt:  55%|█████▍    | 2560/4686 [00:29<00:21, 97.76it/s, now=None]"
     ]
    },
    {
     "name": "stderr",
     "output_type": "stream",
     "text": [
      "\rt:  55%|█████▍    | 2571/4686 [00:29<00:22, 95.18it/s, now=None]"
     ]
    },
    {
     "name": "stderr",
     "output_type": "stream",
     "text": [
      "\rt:  55%|█████▌    | 2581/4686 [00:29<00:22, 94.74it/s, now=None]"
     ]
    },
    {
     "name": "stderr",
     "output_type": "stream",
     "text": [
      "\rt:  55%|█████▌    | 2592/4686 [00:29<00:21, 97.09it/s, now=None]"
     ]
    },
    {
     "name": "stderr",
     "output_type": "stream",
     "text": [
      "\rt:  56%|█████▌    | 2604/4686 [00:29<00:20, 102.01it/s, now=None]"
     ]
    },
    {
     "name": "stderr",
     "output_type": "stream",
     "text": [
      "\rt:  56%|█████▌    | 2615/4686 [00:29<00:21, 97.71it/s, now=None] "
     ]
    },
    {
     "name": "stderr",
     "output_type": "stream",
     "text": [
      "\rt:  56%|█████▌    | 2626/4686 [00:29<00:20, 100.07it/s, now=None]"
     ]
    },
    {
     "name": "stderr",
     "output_type": "stream",
     "text": [
      "\rt:  57%|█████▋    | 2648/4686 [00:29<00:17, 117.77it/s, now=None]"
     ]
    },
    {
     "name": "stderr",
     "output_type": "stream",
     "text": [
      "\rt:  57%|█████▋    | 2673/4686 [00:29<00:14, 139.58it/s, now=None]"
     ]
    },
    {
     "name": "stderr",
     "output_type": "stream",
     "text": [
      "\rt:  57%|█████▋    | 2692/4686 [00:30<00:13, 146.84it/s, now=None]"
     ]
    },
    {
     "name": "stderr",
     "output_type": "stream",
     "text": [
      "\rt:  58%|█████▊    | 2709/4686 [00:30<00:13, 151.57it/s, now=None]"
     ]
    },
    {
     "name": "stderr",
     "output_type": "stream",
     "text": [
      "\rt:  58%|█████▊    | 2727/4686 [00:30<00:13, 148.24it/s, now=None]"
     ]
    },
    {
     "name": "stderr",
     "output_type": "stream",
     "text": [
      "\rt:  59%|█████▊    | 2743/4686 [00:30<00:18, 107.70it/s, now=None]"
     ]
    },
    {
     "name": "stderr",
     "output_type": "stream",
     "text": [
      "\rt:  59%|█████▉    | 2757/4686 [00:30<00:18, 103.72it/s, now=None]"
     ]
    },
    {
     "name": "stderr",
     "output_type": "stream",
     "text": [
      "\rt:  59%|█████▉    | 2769/4686 [00:30<00:20, 95.11it/s, now=None] "
     ]
    },
    {
     "name": "stderr",
     "output_type": "stream",
     "text": [
      "\rt:  59%|█████▉    | 2780/4686 [00:30<00:19, 95.35it/s, now=None]"
     ]
    },
    {
     "name": "stderr",
     "output_type": "stream",
     "text": [
      "\rt:  60%|█████▉    | 2791/4686 [00:31<00:19, 99.12it/s, now=None]"
     ]
    },
    {
     "name": "stderr",
     "output_type": "stream",
     "text": [
      "\rt:  60%|█████▉    | 2802/4686 [00:31<00:20, 93.64it/s, now=None]"
     ]
    },
    {
     "name": "stderr",
     "output_type": "stream",
     "text": [
      "\rt:  60%|██████    | 2812/4686 [00:31<00:20, 93.40it/s, now=None]"
     ]
    },
    {
     "name": "stderr",
     "output_type": "stream",
     "text": [
      "\rt:  60%|██████    | 2826/4686 [00:31<00:17, 103.36it/s, now=None]"
     ]
    },
    {
     "name": "stderr",
     "output_type": "stream",
     "text": [
      "\rt:  61%|██████    | 2840/4686 [00:31<00:17, 106.37it/s, now=None]"
     ]
    },
    {
     "name": "stderr",
     "output_type": "stream",
     "text": [
      "\rt:  61%|██████    | 2852/4686 [00:31<00:17, 103.92it/s, now=None]"
     ]
    },
    {
     "name": "stderr",
     "output_type": "stream",
     "text": [
      "\rt:  61%|██████    | 2864/4686 [00:31<00:17, 104.68it/s, now=None]"
     ]
    },
    {
     "name": "stderr",
     "output_type": "stream",
     "text": [
      "\rt:  61%|██████▏   | 2877/4686 [00:31<00:16, 109.57it/s, now=None]"
     ]
    },
    {
     "name": "stderr",
     "output_type": "stream",
     "text": [
      "\rt:  62%|██████▏   | 2891/4686 [00:31<00:15, 113.31it/s, now=None]"
     ]
    },
    {
     "name": "stderr",
     "output_type": "stream",
     "text": [
      "\rt:  62%|██████▏   | 2903/4686 [00:32<00:15, 112.73it/s, now=None]"
     ]
    },
    {
     "name": "stderr",
     "output_type": "stream",
     "text": [
      "\rt:  62%|██████▏   | 2916/4686 [00:32<00:15, 115.93it/s, now=None]"
     ]
    },
    {
     "name": "stderr",
     "output_type": "stream",
     "text": [
      "\rt:  63%|██████▎   | 2932/4686 [00:32<00:13, 125.86it/s, now=None]"
     ]
    },
    {
     "name": "stderr",
     "output_type": "stream",
     "text": [
      "\rt:  63%|██████▎   | 2945/4686 [00:32<00:13, 124.62it/s, now=None]"
     ]
    },
    {
     "name": "stderr",
     "output_type": "stream",
     "text": [
      "\rt:  63%|██████▎   | 2958/4686 [00:32<00:14, 119.67it/s, now=None]"
     ]
    },
    {
     "name": "stderr",
     "output_type": "stream",
     "text": [
      "\rt:  63%|██████▎   | 2972/4686 [00:32<00:13, 123.56it/s, now=None]"
     ]
    },
    {
     "name": "stderr",
     "output_type": "stream",
     "text": [
      "\rt:  64%|██████▎   | 2985/4686 [00:32<00:13, 125.16it/s, now=None]"
     ]
    },
    {
     "name": "stderr",
     "output_type": "stream",
     "text": [
      "\rt:  64%|██████▍   | 2998/4686 [00:32<00:13, 126.30it/s, now=None]"
     ]
    },
    {
     "name": "stderr",
     "output_type": "stream",
     "text": [
      "\rt:  64%|██████▍   | 3014/4686 [00:32<00:12, 129.68it/s, now=None]"
     ]
    },
    {
     "name": "stderr",
     "output_type": "stream",
     "text": [
      "\rt:  65%|██████▍   | 3029/4686 [00:32<00:12, 134.54it/s, now=None]"
     ]
    },
    {
     "name": "stderr",
     "output_type": "stream",
     "text": [
      "\rt:  65%|██████▍   | 3043/4686 [00:33<00:12, 129.82it/s, now=None]"
     ]
    },
    {
     "name": "stderr",
     "output_type": "stream",
     "text": [
      "\rt:  65%|██████▌   | 3061/4686 [00:33<00:11, 138.17it/s, now=None]"
     ]
    },
    {
     "name": "stderr",
     "output_type": "stream",
     "text": [
      "\rt:  66%|██████▌   | 3078/4686 [00:33<00:11, 145.74it/s, now=None]"
     ]
    },
    {
     "name": "stderr",
     "output_type": "stream",
     "text": [
      "\rt:  66%|██████▌   | 3095/4686 [00:33<00:10, 151.96it/s, now=None]"
     ]
    },
    {
     "name": "stderr",
     "output_type": "stream",
     "text": [
      "\rt:  66%|██████▋   | 3111/4686 [00:33<00:12, 125.14it/s, now=None]"
     ]
    },
    {
     "name": "stderr",
     "output_type": "stream",
     "text": [
      "\rt:  67%|██████▋   | 3125/4686 [00:33<00:14, 111.48it/s, now=None]"
     ]
    },
    {
     "name": "stderr",
     "output_type": "stream",
     "text": [
      "\rt:  67%|██████▋   | 3138/4686 [00:33<00:16, 96.16it/s, now=None] "
     ]
    },
    {
     "name": "stderr",
     "output_type": "stream",
     "text": [
      "\rt:  67%|██████▋   | 3151/4686 [00:34<00:15, 100.74it/s, now=None]"
     ]
    },
    {
     "name": "stderr",
     "output_type": "stream",
     "text": [
      "\rt:  67%|██████▋   | 3162/4686 [00:34<00:17, 88.71it/s, now=None] "
     ]
    },
    {
     "name": "stderr",
     "output_type": "stream",
     "text": [
      "\rt:  68%|██████▊   | 3177/4686 [00:34<00:14, 100.75it/s, now=None]"
     ]
    },
    {
     "name": "stderr",
     "output_type": "stream",
     "text": [
      "\rt:  68%|██████▊   | 3189/4686 [00:34<00:15, 98.38it/s, now=None] "
     ]
    },
    {
     "name": "stderr",
     "output_type": "stream",
     "text": [
      "\rt:  68%|██████▊   | 3200/4686 [00:34<00:16, 88.25it/s, now=None]"
     ]
    },
    {
     "name": "stderr",
     "output_type": "stream",
     "text": [
      "\rt:  69%|██████▊   | 3210/4686 [00:34<00:23, 63.89it/s, now=None]"
     ]
    },
    {
     "name": "stderr",
     "output_type": "stream",
     "text": [
      "\rt:  69%|██████▊   | 3219/4686 [00:34<00:21, 67.66it/s, now=None]"
     ]
    },
    {
     "name": "stderr",
     "output_type": "stream",
     "text": [
      "\rt:  69%|██████▉   | 3227/4686 [00:35<00:20, 70.62it/s, now=None]"
     ]
    },
    {
     "name": "stderr",
     "output_type": "stream",
     "text": [
      "\rt:  69%|██████▉   | 3238/4686 [00:35<00:19, 72.74it/s, now=None]"
     ]
    },
    {
     "name": "stderr",
     "output_type": "stream",
     "text": [
      "\rt:  69%|██████▉   | 3247/4686 [00:35<00:18, 76.06it/s, now=None]"
     ]
    },
    {
     "name": "stderr",
     "output_type": "stream",
     "text": [
      "\rt:  70%|██████▉   | 3258/4686 [00:35<00:17, 83.68it/s, now=None]"
     ]
    },
    {
     "name": "stderr",
     "output_type": "stream",
     "text": [
      "\rt:  70%|██████▉   | 3267/4686 [00:35<00:17, 80.73it/s, now=None]"
     ]
    },
    {
     "name": "stderr",
     "output_type": "stream",
     "text": [
      "\rt:  70%|██████▉   | 3277/4686 [00:35<00:16, 85.30it/s, now=None]"
     ]
    },
    {
     "name": "stderr",
     "output_type": "stream",
     "text": [
      "\rt:  70%|███████   | 3287/4686 [00:35<00:20, 69.02it/s, now=None]"
     ]
    },
    {
     "name": "stderr",
     "output_type": "stream",
     "text": [
      "\rt:  70%|███████   | 3295/4686 [00:36<00:24, 57.23it/s, now=None]"
     ]
    },
    {
     "name": "stderr",
     "output_type": "stream",
     "text": [
      "\rt:  70%|███████   | 3302/4686 [00:36<00:29, 46.31it/s, now=None]"
     ]
    },
    {
     "name": "stderr",
     "output_type": "stream",
     "text": [
      "\rt:  71%|███████   | 3314/4686 [00:36<00:24, 56.55it/s, now=None]"
     ]
    },
    {
     "name": "stderr",
     "output_type": "stream",
     "text": [
      "\rt:  71%|███████   | 3322/4686 [00:36<00:25, 52.74it/s, now=None]"
     ]
    },
    {
     "name": "stderr",
     "output_type": "stream",
     "text": [
      "\rt:  71%|███████   | 3329/4686 [00:36<00:27, 49.10it/s, now=None]"
     ]
    },
    {
     "name": "stderr",
     "output_type": "stream",
     "text": [
      "\rt:  71%|███████   | 3336/4686 [00:36<00:25, 53.71it/s, now=None]"
     ]
    },
    {
     "name": "stderr",
     "output_type": "stream",
     "text": [
      "\rt:  71%|███████▏  | 3343/4686 [00:36<00:27, 48.35it/s, now=None]"
     ]
    },
    {
     "name": "stderr",
     "output_type": "stream",
     "text": [
      "\rt:  72%|███████▏  | 3351/4686 [00:37<00:26, 50.53it/s, now=None]"
     ]
    },
    {
     "name": "stderr",
     "output_type": "stream",
     "text": [
      "\rt:  72%|███████▏  | 3359/4686 [00:37<00:25, 52.59it/s, now=None]"
     ]
    },
    {
     "name": "stderr",
     "output_type": "stream",
     "text": [
      "\rt:  72%|███████▏  | 3371/4686 [00:37<00:21, 62.49it/s, now=None]"
     ]
    },
    {
     "name": "stderr",
     "output_type": "stream",
     "text": [
      "\rt:  72%|███████▏  | 3379/4686 [00:37<00:20, 63.13it/s, now=None]"
     ]
    },
    {
     "name": "stderr",
     "output_type": "stream",
     "text": [
      "\rt:  72%|███████▏  | 3389/4686 [00:37<00:18, 70.73it/s, now=None]"
     ]
    },
    {
     "name": "stderr",
     "output_type": "stream",
     "text": [
      "\rt:  72%|███████▏  | 3397/4686 [00:37<00:19, 66.91it/s, now=None]"
     ]
    },
    {
     "name": "stderr",
     "output_type": "stream",
     "text": [
      "\rt:  73%|███████▎  | 3408/4686 [00:37<00:17, 74.63it/s, now=None]"
     ]
    },
    {
     "name": "stderr",
     "output_type": "stream",
     "text": [
      "\rt:  73%|███████▎  | 3417/4686 [00:37<00:18, 69.60it/s, now=None]"
     ]
    },
    {
     "name": "stderr",
     "output_type": "stream",
     "text": [
      "\rt:  73%|███████▎  | 3425/4686 [00:38<00:19, 64.76it/s, now=None]"
     ]
    },
    {
     "name": "stderr",
     "output_type": "stream",
     "text": [
      "\rt:  73%|███████▎  | 3434/4686 [00:38<00:17, 69.61it/s, now=None]"
     ]
    },
    {
     "name": "stderr",
     "output_type": "stream",
     "text": [
      "\rt:  74%|███████▎  | 3447/4686 [00:38<00:15, 80.32it/s, now=None]"
     ]
    },
    {
     "name": "stderr",
     "output_type": "stream",
     "text": [
      "\rt:  74%|███████▍  | 3461/4686 [00:38<00:13, 91.07it/s, now=None]"
     ]
    },
    {
     "name": "stderr",
     "output_type": "stream",
     "text": [
      "\rt:  74%|███████▍  | 3474/4686 [00:38<00:12, 98.31it/s, now=None]"
     ]
    },
    {
     "name": "stderr",
     "output_type": "stream",
     "text": [
      "\rt:  74%|███████▍  | 3489/4686 [00:38<00:11, 107.59it/s, now=None]"
     ]
    },
    {
     "name": "stderr",
     "output_type": "stream",
     "text": [
      "\rt:  75%|███████▍  | 3506/4686 [00:38<00:10, 117.23it/s, now=None]"
     ]
    },
    {
     "name": "stderr",
     "output_type": "stream",
     "text": [
      "\rt:  75%|███████▌  | 3520/4686 [00:38<00:09, 123.01it/s, now=None]"
     ]
    },
    {
     "name": "stderr",
     "output_type": "stream",
     "text": [
      "\rt:  75%|███████▌  | 3537/4686 [00:38<00:08, 132.65it/s, now=None]"
     ]
    },
    {
     "name": "stderr",
     "output_type": "stream",
     "text": [
      "\rt:  76%|███████▌  | 3551/4686 [00:39<00:08, 126.83it/s, now=None]"
     ]
    },
    {
     "name": "stderr",
     "output_type": "stream",
     "text": [
      "\rt:  76%|███████▌  | 3565/4686 [00:39<00:08, 127.06it/s, now=None]"
     ]
    },
    {
     "name": "stderr",
     "output_type": "stream",
     "text": [
      "\rt:  76%|███████▋  | 3580/4686 [00:39<00:08, 132.91it/s, now=None]"
     ]
    },
    {
     "name": "stderr",
     "output_type": "stream",
     "text": [
      "\rt:  77%|███████▋  | 3594/4686 [00:39<00:08, 130.18it/s, now=None]"
     ]
    },
    {
     "name": "stderr",
     "output_type": "stream",
     "text": [
      "\rt:  77%|███████▋  | 3608/4686 [00:39<00:08, 122.62it/s, now=None]"
     ]
    },
    {
     "name": "stderr",
     "output_type": "stream",
     "text": [
      "\rt:  77%|███████▋  | 3621/4686 [00:39<00:08, 122.38it/s, now=None]"
     ]
    },
    {
     "name": "stderr",
     "output_type": "stream",
     "text": [
      "\rt:  78%|███████▊  | 3634/4686 [00:39<00:08, 122.90it/s, now=None]"
     ]
    },
    {
     "name": "stderr",
     "output_type": "stream",
     "text": [
      "\rt:  78%|███████▊  | 3647/4686 [00:39<00:09, 115.41it/s, now=None]"
     ]
    },
    {
     "name": "stderr",
     "output_type": "stream",
     "text": [
      "\rt:  78%|███████▊  | 3659/4686 [00:40<00:09, 113.54it/s, now=None]"
     ]
    },
    {
     "name": "stderr",
     "output_type": "stream",
     "text": [
      "\rt:  78%|███████▊  | 3671/4686 [00:40<00:09, 101.72it/s, now=None]"
     ]
    },
    {
     "name": "stderr",
     "output_type": "stream",
     "text": [
      "\rt:  79%|███████▊  | 3685/4686 [00:40<00:09, 110.62it/s, now=None]"
     ]
    },
    {
     "name": "stderr",
     "output_type": "stream",
     "text": [
      "\rt:  79%|███████▉  | 3699/4686 [00:40<00:08, 110.59it/s, now=None]"
     ]
    },
    {
     "name": "stderr",
     "output_type": "stream",
     "text": [
      "\rt:  79%|███████▉  | 3711/4686 [00:40<00:08, 109.33it/s, now=None]"
     ]
    },
    {
     "name": "stderr",
     "output_type": "stream",
     "text": [
      "\rt:  79%|███████▉  | 3723/4686 [00:40<00:09, 106.16it/s, now=None]"
     ]
    },
    {
     "name": "stderr",
     "output_type": "stream",
     "text": [
      "\rt:  80%|███████▉  | 3734/4686 [00:40<00:09, 104.92it/s, now=None]"
     ]
    },
    {
     "name": "stderr",
     "output_type": "stream",
     "text": [
      "\rt:  80%|████████  | 3751/4686 [00:40<00:08, 114.53it/s, now=None]"
     ]
    },
    {
     "name": "stderr",
     "output_type": "stream",
     "text": [
      "\rt:  80%|████████  | 3765/4686 [00:40<00:07, 120.60it/s, now=None]"
     ]
    },
    {
     "name": "stderr",
     "output_type": "stream",
     "text": [
      "\rt:  81%|████████  | 3781/4686 [00:41<00:07, 118.73it/s, now=None]"
     ]
    },
    {
     "name": "stderr",
     "output_type": "stream",
     "text": [
      "\rt:  81%|████████  | 3794/4686 [00:41<00:08, 103.17it/s, now=None]"
     ]
    },
    {
     "name": "stderr",
     "output_type": "stream",
     "text": [
      "\rt:  81%|████████  | 3807/4686 [00:41<00:08, 107.07it/s, now=None]"
     ]
    },
    {
     "name": "stderr",
     "output_type": "stream",
     "text": [
      "\rt:  81%|████████▏ | 3819/4686 [00:41<00:08, 102.26it/s, now=None]"
     ]
    },
    {
     "name": "stderr",
     "output_type": "stream",
     "text": [
      "\rt:  82%|████████▏ | 3831/4686 [00:41<00:08, 101.91it/s, now=None]"
     ]
    },
    {
     "name": "stderr",
     "output_type": "stream",
     "text": [
      "\rt:  82%|████████▏ | 3842/4686 [00:41<00:08, 97.64it/s, now=None] "
     ]
    },
    {
     "name": "stderr",
     "output_type": "stream",
     "text": [
      "\rt:  82%|████████▏ | 3857/4686 [00:41<00:07, 106.35it/s, now=None]"
     ]
    },
    {
     "name": "stderr",
     "output_type": "stream",
     "text": [
      "\rt:  83%|████████▎ | 3874/4686 [00:41<00:07, 115.96it/s, now=None]"
     ]
    },
    {
     "name": "stderr",
     "output_type": "stream",
     "text": [
      "\rt:  83%|████████▎ | 3889/4686 [00:42<00:06, 124.20it/s, now=None]"
     ]
    },
    {
     "name": "stderr",
     "output_type": "stream",
     "text": [
      "\rt:  83%|████████▎ | 3902/4686 [00:42<00:06, 114.98it/s, now=None]"
     ]
    },
    {
     "name": "stderr",
     "output_type": "stream",
     "text": [
      "\rt:  84%|████████▎ | 3915/4686 [00:42<00:06, 110.98it/s, now=None]"
     ]
    },
    {
     "name": "stderr",
     "output_type": "stream",
     "text": [
      "\rt:  84%|████████▍ | 3928/4686 [00:42<00:06, 110.54it/s, now=None]"
     ]
    },
    {
     "name": "stderr",
     "output_type": "stream",
     "text": [
      "\rt:  84%|████████▍ | 3940/4686 [00:42<00:06, 110.49it/s, now=None]"
     ]
    },
    {
     "name": "stderr",
     "output_type": "stream",
     "text": [
      "\rt:  84%|████████▍ | 3953/4686 [00:42<00:06, 114.56it/s, now=None]"
     ]
    },
    {
     "name": "stderr",
     "output_type": "stream",
     "text": [
      "\rt:  85%|████████▍ | 3965/4686 [00:42<00:06, 111.39it/s, now=None]"
     ]
    },
    {
     "name": "stderr",
     "output_type": "stream",
     "text": [
      "\rt:  85%|████████▍ | 3977/4686 [00:42<00:06, 110.47it/s, now=None]"
     ]
    },
    {
     "name": "stderr",
     "output_type": "stream",
     "text": [
      "\rt:  85%|████████▌ | 3989/4686 [00:42<00:06, 112.62it/s, now=None]"
     ]
    },
    {
     "name": "stderr",
     "output_type": "stream",
     "text": [
      "\rt:  85%|████████▌ | 4001/4686 [00:43<00:06, 106.87it/s, now=None]"
     ]
    },
    {
     "name": "stderr",
     "output_type": "stream",
     "text": [
      "\rt:  86%|████████▌ | 4012/4686 [00:43<00:06, 106.62it/s, now=None]"
     ]
    },
    {
     "name": "stderr",
     "output_type": "stream",
     "text": [
      "\rt:  86%|████████▌ | 4030/4686 [00:43<00:05, 120.81it/s, now=None]"
     ]
    },
    {
     "name": "stderr",
     "output_type": "stream",
     "text": [
      "\rt:  86%|████████▋ | 4045/4686 [00:43<00:05, 124.56it/s, now=None]"
     ]
    },
    {
     "name": "stderr",
     "output_type": "stream",
     "text": [
      "\rt:  87%|████████▋ | 4062/4686 [00:43<00:04, 133.91it/s, now=None]"
     ]
    },
    {
     "name": "stderr",
     "output_type": "stream",
     "text": [
      "\rt:  87%|████████▋ | 4080/4686 [00:43<00:04, 144.10it/s, now=None]"
     ]
    },
    {
     "name": "stderr",
     "output_type": "stream",
     "text": [
      "\rt:  88%|████████▊ | 4102/4686 [00:43<00:03, 160.13it/s, now=None]"
     ]
    },
    {
     "name": "stderr",
     "output_type": "stream",
     "text": [
      "\rt:  88%|████████▊ | 4120/4686 [00:43<00:03, 157.91it/s, now=None]"
     ]
    },
    {
     "name": "stderr",
     "output_type": "stream",
     "text": [
      "\rt:  88%|████████▊ | 4137/4686 [00:44<00:04, 130.96it/s, now=None]"
     ]
    },
    {
     "name": "stderr",
     "output_type": "stream",
     "text": [
      "\rt:  89%|████████▊ | 4152/4686 [00:44<00:04, 132.99it/s, now=None]"
     ]
    },
    {
     "name": "stderr",
     "output_type": "stream",
     "text": [
      "\rt:  89%|████████▉ | 4167/4686 [00:44<00:04, 129.58it/s, now=None]"
     ]
    },
    {
     "name": "stderr",
     "output_type": "stream",
     "text": [
      "\rt:  89%|████████▉ | 4185/4686 [00:44<00:03, 139.26it/s, now=None]"
     ]
    },
    {
     "name": "stderr",
     "output_type": "stream",
     "text": [
      "\rt:  90%|████████▉ | 4200/4686 [00:44<00:03, 129.55it/s, now=None]"
     ]
    },
    {
     "name": "stderr",
     "output_type": "stream",
     "text": [
      "\rt:  90%|████████▉ | 4214/4686 [00:44<00:03, 128.61it/s, now=None]"
     ]
    },
    {
     "name": "stderr",
     "output_type": "stream",
     "text": [
      "\rt:  90%|█████████ | 4228/4686 [00:44<00:03, 126.91it/s, now=None]"
     ]
    },
    {
     "name": "stderr",
     "output_type": "stream",
     "text": [
      "\rt:  91%|█████████ | 4241/4686 [00:44<00:03, 122.86it/s, now=None]"
     ]
    },
    {
     "name": "stderr",
     "output_type": "stream",
     "text": [
      "\rt:  91%|█████████ | 4254/4686 [00:44<00:03, 122.55it/s, now=None]"
     ]
    },
    {
     "name": "stderr",
     "output_type": "stream",
     "text": [
      "\rt:  91%|█████████ | 4267/4686 [00:45<00:03, 119.31it/s, now=None]"
     ]
    },
    {
     "name": "stderr",
     "output_type": "stream",
     "text": [
      "\rt:  91%|█████████▏| 4281/4686 [00:45<00:03, 122.00it/s, now=None]"
     ]
    },
    {
     "name": "stderr",
     "output_type": "stream",
     "text": [
      "\rt:  92%|█████████▏| 4294/4686 [00:45<00:03, 121.26it/s, now=None]"
     ]
    },
    {
     "name": "stderr",
     "output_type": "stream",
     "text": [
      "\rt:  92%|█████████▏| 4307/4686 [00:45<00:03, 122.80it/s, now=None]"
     ]
    },
    {
     "name": "stderr",
     "output_type": "stream",
     "text": [
      "\rt:  92%|█████████▏| 4320/4686 [00:45<00:03, 110.93it/s, now=None]"
     ]
    },
    {
     "name": "stderr",
     "output_type": "stream",
     "text": [
      "\rt:  92%|█████████▏| 4333/4686 [00:45<00:03, 114.29it/s, now=None]"
     ]
    },
    {
     "name": "stderr",
     "output_type": "stream",
     "text": [
      "\rt:  93%|█████████▎| 4348/4686 [00:45<00:02, 120.50it/s, now=None]"
     ]
    },
    {
     "name": "stderr",
     "output_type": "stream",
     "text": [
      "\rt:  93%|█████████▎| 4364/4686 [00:45<00:02, 127.73it/s, now=None]"
     ]
    },
    {
     "name": "stderr",
     "output_type": "stream",
     "text": [
      "\rt:  93%|█████████▎| 4379/4686 [00:45<00:02, 129.97it/s, now=None]"
     ]
    },
    {
     "name": "stderr",
     "output_type": "stream",
     "text": [
      "\rt:  94%|█████████▎| 4393/4686 [00:46<00:02, 128.90it/s, now=None]"
     ]
    },
    {
     "name": "stderr",
     "output_type": "stream",
     "text": [
      "\rt:  94%|█████████▍| 4409/4686 [00:46<00:02, 129.35it/s, now=None]"
     ]
    },
    {
     "name": "stderr",
     "output_type": "stream",
     "text": [
      "\rt:  94%|█████████▍| 4423/4686 [00:46<00:02, 124.04it/s, now=None]"
     ]
    },
    {
     "name": "stderr",
     "output_type": "stream",
     "text": [
      "\rt:  95%|█████████▍| 4436/4686 [00:46<00:02, 121.64it/s, now=None]"
     ]
    },
    {
     "name": "stderr",
     "output_type": "stream",
     "text": [
      "\rt:  95%|█████████▍| 4449/4686 [00:46<00:02, 117.10it/s, now=None]"
     ]
    },
    {
     "name": "stderr",
     "output_type": "stream",
     "text": [
      "\rt:  95%|█████████▌| 4461/4686 [00:46<00:01, 114.35it/s, now=None]"
     ]
    },
    {
     "name": "stderr",
     "output_type": "stream",
     "text": [
      "\rt:  95%|█████████▌| 4474/4686 [00:46<00:01, 112.28it/s, now=None]"
     ]
    },
    {
     "name": "stderr",
     "output_type": "stream",
     "text": [
      "\rt:  96%|█████████▌| 4486/4686 [00:46<00:01, 112.96it/s, now=None]"
     ]
    },
    {
     "name": "stderr",
     "output_type": "stream",
     "text": [
      "\rt:  96%|█████████▌| 4498/4686 [00:47<00:01, 95.15it/s, now=None] "
     ]
    },
    {
     "name": "stderr",
     "output_type": "stream",
     "text": [
      "\rt:  96%|█████████▌| 4509/4686 [00:47<00:02, 84.04it/s, now=None]"
     ]
    },
    {
     "name": "stderr",
     "output_type": "stream",
     "text": [
      "\rt:  97%|█████████▋| 4523/4686 [00:47<00:01, 91.79it/s, now=None]"
     ]
    },
    {
     "name": "stderr",
     "output_type": "stream",
     "text": [
      "\rt:  97%|█████████▋| 4534/4686 [00:47<00:01, 95.65it/s, now=None]"
     ]
    },
    {
     "name": "stderr",
     "output_type": "stream",
     "text": [
      "\rt:  97%|█████████▋| 4549/4686 [00:47<00:01, 104.69it/s, now=None]"
     ]
    },
    {
     "name": "stderr",
     "output_type": "stream",
     "text": [
      "\rt:  97%|█████████▋| 4561/4686 [00:47<00:01, 106.05it/s, now=None]"
     ]
    },
    {
     "name": "stderr",
     "output_type": "stream",
     "text": [
      "\rt:  98%|█████████▊| 4573/4686 [00:47<00:01, 104.79it/s, now=None]"
     ]
    },
    {
     "name": "stderr",
     "output_type": "stream",
     "text": [
      "\rt:  98%|█████████▊| 4586/4686 [00:47<00:00, 110.77it/s, now=None]"
     ]
    },
    {
     "name": "stderr",
     "output_type": "stream",
     "text": [
      "\rt:  98%|█████████▊| 4598/4686 [00:48<00:00, 102.20it/s, now=None]"
     ]
    },
    {
     "name": "stderr",
     "output_type": "stream",
     "text": [
      "\rt:  98%|█████████▊| 4611/4686 [00:48<00:00, 106.86it/s, now=None]"
     ]
    },
    {
     "name": "stderr",
     "output_type": "stream",
     "text": [
      "\rt:  99%|█████████▊| 4622/4686 [00:48<00:00, 106.61it/s, now=None]"
     ]
    },
    {
     "name": "stderr",
     "output_type": "stream",
     "text": [
      "\rt:  99%|█████████▉| 4634/4686 [00:48<00:00, 103.28it/s, now=None]"
     ]
    },
    {
     "name": "stderr",
     "output_type": "stream",
     "text": [
      "\rt:  99%|█████████▉| 4646/4686 [00:48<00:00, 106.43it/s, now=None]"
     ]
    },
    {
     "name": "stderr",
     "output_type": "stream",
     "text": [
      "\rt:  99%|█████████▉| 4657/4686 [00:48<00:00, 105.10it/s, now=None]"
     ]
    },
    {
     "name": "stderr",
     "output_type": "stream",
     "text": [
      "\rt: 100%|█████████▉| 4670/4686 [00:48<00:00, 101.43it/s, now=None]"
     ]
    },
    {
     "name": "stderr",
     "output_type": "stream",
     "text": [
      "\rt: 100%|█████████▉| 4683/4686 [00:48<00:00, 106.53it/s, now=None]"
     ]
    },
    {
     "name": "stderr",
     "output_type": "stream",
     "text": [
      "\r                                                                 "
     ]
    },
    {
     "name": "stderr",
     "output_type": "stream",
     "text": [
      "\r"
     ]
    },
    {
     "name": "stdout",
     "output_type": "stream",
     "text": [
      "Moviepy - Done !"
     ]
    },
    {
     "name": "stdout",
     "output_type": "stream",
     "text": [
      "\n"
     ]
    },
    {
     "name": "stdout",
     "output_type": "stream",
     "text": [
      "Moviepy - video ready video.mp4"
     ]
    },
    {
     "name": "stdout",
     "output_type": "stream",
     "text": [
      "\n"
     ]
    }
   ],
   "source": [
    "#final_audio.write_audiofile('audio.mp3')\n",
    "videoclip.write_videofile('video.mp4', audio=False)"
   ]
  },
  {
   "cell_type": "code",
   "execution_count": null,
   "metadata": {},
   "outputs": [],
   "source": []
  },
  {
   "cell_type": "code",
   "execution_count": null,
   "metadata": {},
   "outputs": [],
   "source": []
  }
 ],
 "metadata": {
  "kernelspec": {
   "display_name": "Python 2",
   "language": "python",
   "name": "python2"
  },
  "language_info": {
   "codemirror_mode": {
    "name": "ipython",
    "version": 2
   },
   "file_extension": ".py",
   "mimetype": "text/x-python",
   "name": "python",
   "nbconvert_exporter": "python",
   "pygments_lexer": "ipython2",
   "version": "2.7.6"
  }
 },
 "nbformat": 4,
 "nbformat_minor": 0
}
